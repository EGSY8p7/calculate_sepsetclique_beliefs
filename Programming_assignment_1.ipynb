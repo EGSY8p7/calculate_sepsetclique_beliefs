{
  "nbformat": 4,
  "nbformat_minor": 0,
  "metadata": {
    "colab": {
      "name": "Programming assignment 1.ipynb",
      "provenance": [],
      "collapsed_sections": []
    },
    "kernelspec": {
      "name": "python3",
      "display_name": "Python 3"
    },
    "language_info": {
      "name": "python"
    }
  },
  "cells": [
    {
      "cell_type": "markdown",
      "metadata": {
        "id": "F7hS_rYLFpos"
      },
      "source": [
        "**Programming Assignment 1**\n",
        "\n",
        "Student name: Madina Kudaibergenova\n",
        "\n",
        "Implement a message passing asynchronous algorithm for graph calibration from the following inputs:\n",
        "\n",
        "1 - a set of factors specifying either the probabilities or random co-occurrences for each factor;\n",
        "\n",
        "2 - a cluster graph (input file with one line indicating cluster of variables separated by comma).\n",
        "\n",
        "Output the set of calibrated clique and sepset beliefs"
      ]
    },
    {
      "cell_type": "code",
      "metadata": {
        "id": "vwNBCb9-GU7A"
      },
      "source": [
        "# importing necessary libraries\n",
        "import numpy as np # to work with arrays\n",
        "import pandas as pd # to work with tables"
      ],
      "execution_count": null,
      "outputs": []
    },
    {
      "cell_type": "code",
      "metadata": {
        "id": "ZmniXHtaERf8"
      },
      "source": [
        "# initialize variables, factors and their values\n",
        "factors = [[0, 1], [0,2], [2,3], [2,4], [2,6], [3,4], [3,5],[5,6]]\n",
        "values = [np.array([404, 331, 454, 432]), np.array([211, 215, 339, 151]), \n",
        "          np.array([394, 206, 122, 468]), np.array([45, 401, 42, 101]),\n",
        "          np.array([82, 187, 396, 48]), np.array([393, 168, 323, 270]),\n",
        "          np.array([496, 262, 307, 191]), np.array([47, 200, 160, 199])]"
      ],
      "execution_count": 129,
      "outputs": []
    },
    {
      "cell_type": "markdown",
      "metadata": {
        "id": "JIjj2t-L78X3"
      },
      "source": [
        "\n",
        "\n",
        "---\n",
        "\n"
      ]
    },
    {
      "cell_type": "markdown",
      "metadata": {
        "id": "5y9TzP9w18uM"
      },
      "source": [
        "**First we find clique potentials for each cliques, and then find messages sent forward**"
      ]
    },
    {
      "cell_type": "markdown",
      "metadata": {
        "id": "y_DCUYf8GKcv"
      },
      "source": [
        "We should get 6 messages due to the formula 2*(number of cliques - 1) = 2*(4-1) = 6"
      ]
    },
    {
      "cell_type": "markdown",
      "metadata": {
        "id": "_vEp3mhLrP3P"
      },
      "source": [
        "1) Eliminating 0 and 1, and send {2} from [012] to [234] cliques"
      ]
    },
    {
      "cell_type": "code",
      "metadata": {
        "colab": {
          "base_uri": "https://localhost:8080/",
          "height": 175
        },
        "id": "lqm2C1YoZ33A",
        "outputId": "1cdd380b-cd39-4112-fca6-9f8d594e7b15"
      },
      "source": [
        "true_false01 = [[\"0 false\",\"1 false\"],[\"0 false\",\"1 true\"],[\"0 true\",\"1 false\"],[\"0 true\",\"1 true\"]]\n",
        "init_df01 = pd.DataFrame({ '0 and 1' : true_false01, 'values' : values[0] })\n",
        "init_df01"
      ],
      "execution_count": null,
      "outputs": [
        {
          "output_type": "execute_result",
          "data": {
            "text/html": [
              "<div>\n",
              "<style scoped>\n",
              "    .dataframe tbody tr th:only-of-type {\n",
              "        vertical-align: middle;\n",
              "    }\n",
              "\n",
              "    .dataframe tbody tr th {\n",
              "        vertical-align: top;\n",
              "    }\n",
              "\n",
              "    .dataframe thead th {\n",
              "        text-align: right;\n",
              "    }\n",
              "</style>\n",
              "<table border=\"1\" class=\"dataframe\">\n",
              "  <thead>\n",
              "    <tr style=\"text-align: right;\">\n",
              "      <th></th>\n",
              "      <th>0 and 1</th>\n",
              "      <th>values</th>\n",
              "    </tr>\n",
              "  </thead>\n",
              "  <tbody>\n",
              "    <tr>\n",
              "      <th>0</th>\n",
              "      <td>[0 false, 1 false]</td>\n",
              "      <td>404</td>\n",
              "    </tr>\n",
              "    <tr>\n",
              "      <th>1</th>\n",
              "      <td>[0 false, 1 true]</td>\n",
              "      <td>331</td>\n",
              "    </tr>\n",
              "    <tr>\n",
              "      <th>2</th>\n",
              "      <td>[0 true, 1 false]</td>\n",
              "      <td>454</td>\n",
              "    </tr>\n",
              "    <tr>\n",
              "      <th>3</th>\n",
              "      <td>[0 true, 1 true]</td>\n",
              "      <td>432</td>\n",
              "    </tr>\n",
              "  </tbody>\n",
              "</table>\n",
              "</div>"
            ],
            "text/plain": [
              "              0 and 1  values\n",
              "0  [0 false, 1 false]     404\n",
              "1   [0 false, 1 true]     331\n",
              "2   [0 true, 1 false]     454\n",
              "3    [0 true, 1 true]     432"
            ]
          },
          "metadata": {
            "tags": []
          },
          "execution_count": 56
        }
      ]
    },
    {
      "cell_type": "code",
      "metadata": {
        "colab": {
          "base_uri": "https://localhost:8080/",
          "height": 175
        },
        "id": "f4z31QYA7dXg",
        "outputId": "249b03cb-af30-4cd0-fcae-6f2c89f9962e"
      },
      "source": [
        "true_false02 = [[\"0 false\",\"2 false\"],[\"0 false\",\"2 true\"],[\"0 true\",\"2 false\"],[\"0 true\",\"2 true\"]]\n",
        "init_df02 = pd.DataFrame({ '0 and 2' : true_false02, 'values' : values[1]  })\n",
        "init_df02"
      ],
      "execution_count": null,
      "outputs": [
        {
          "output_type": "execute_result",
          "data": {
            "text/html": [
              "<div>\n",
              "<style scoped>\n",
              "    .dataframe tbody tr th:only-of-type {\n",
              "        vertical-align: middle;\n",
              "    }\n",
              "\n",
              "    .dataframe tbody tr th {\n",
              "        vertical-align: top;\n",
              "    }\n",
              "\n",
              "    .dataframe thead th {\n",
              "        text-align: right;\n",
              "    }\n",
              "</style>\n",
              "<table border=\"1\" class=\"dataframe\">\n",
              "  <thead>\n",
              "    <tr style=\"text-align: right;\">\n",
              "      <th></th>\n",
              "      <th>0 and 2</th>\n",
              "      <th>values</th>\n",
              "    </tr>\n",
              "  </thead>\n",
              "  <tbody>\n",
              "    <tr>\n",
              "      <th>0</th>\n",
              "      <td>[0 false, 2 false]</td>\n",
              "      <td>211</td>\n",
              "    </tr>\n",
              "    <tr>\n",
              "      <th>1</th>\n",
              "      <td>[0 false, 2 true]</td>\n",
              "      <td>215</td>\n",
              "    </tr>\n",
              "    <tr>\n",
              "      <th>2</th>\n",
              "      <td>[0 true, 2 false]</td>\n",
              "      <td>339</td>\n",
              "    </tr>\n",
              "    <tr>\n",
              "      <th>3</th>\n",
              "      <td>[0 true, 2 true]</td>\n",
              "      <td>151</td>\n",
              "    </tr>\n",
              "  </tbody>\n",
              "</table>\n",
              "</div>"
            ],
            "text/plain": [
              "              0 and 2  values\n",
              "0  [0 false, 2 false]     211\n",
              "1   [0 false, 2 true]     215\n",
              "2   [0 true, 2 false]     339\n",
              "3    [0 true, 2 true]     151"
            ]
          },
          "metadata": {
            "tags": []
          },
          "execution_count": 57
        }
      ]
    },
    {
      "cell_type": "code",
      "metadata": {
        "colab": {
          "base_uri": "https://localhost:8080/",
          "height": 300
        },
        "id": "ZQSRr06jjUuy",
        "outputId": "3ac9221d-fe80-4b6f-d304-b5ac9036c506"
      },
      "source": [
        "# compute clique potential\n",
        "true_false012 = [[\"0 false\", \"1 false\", \"2 false\"], [\"0 false\", \"1 false\", \"2 true\"], [\"0 false\", \"1 true\", \"2 false\"],\n",
        "               [\"0 false\", \"1 true\", \"2 true\"], [\"0 true\", \"1 false\", \"2 false\"], [\"0 true\", \"1 false\", \"2 true\"], \n",
        "               [\"0 true\", \"1 true\", \"2 false\"], [\"0 true\", \"1 true\", \"2 true\"] ]\n",
        "clique_potential012 = [ values[0][0]*values[1][0], values[0][0]*values[1][1], values[0][1]*values[1][0],\n",
        "                        values[0][1]*values[1][1], values[0][2]*values[1][2], values[0][2]*values[1][3],\n",
        "                        values[0][3]*values[1][2], values[0][3]*values[1][3] ]\n",
        "CP_df012 = pd.DataFrame({ '0 and 1 and 2' : true_false012, 'values' : clique_potential012  })\n",
        "CP_df012"
      ],
      "execution_count": null,
      "outputs": [
        {
          "output_type": "execute_result",
          "data": {
            "text/html": [
              "<div>\n",
              "<style scoped>\n",
              "    .dataframe tbody tr th:only-of-type {\n",
              "        vertical-align: middle;\n",
              "    }\n",
              "\n",
              "    .dataframe tbody tr th {\n",
              "        vertical-align: top;\n",
              "    }\n",
              "\n",
              "    .dataframe thead th {\n",
              "        text-align: right;\n",
              "    }\n",
              "</style>\n",
              "<table border=\"1\" class=\"dataframe\">\n",
              "  <thead>\n",
              "    <tr style=\"text-align: right;\">\n",
              "      <th></th>\n",
              "      <th>0 and 1 and 2</th>\n",
              "      <th>values</th>\n",
              "    </tr>\n",
              "  </thead>\n",
              "  <tbody>\n",
              "    <tr>\n",
              "      <th>0</th>\n",
              "      <td>[0 false, 1 false, 2 false]</td>\n",
              "      <td>85244</td>\n",
              "    </tr>\n",
              "    <tr>\n",
              "      <th>1</th>\n",
              "      <td>[0 false, 1 false, 2 true]</td>\n",
              "      <td>86860</td>\n",
              "    </tr>\n",
              "    <tr>\n",
              "      <th>2</th>\n",
              "      <td>[0 false, 1 true, 2 false]</td>\n",
              "      <td>69841</td>\n",
              "    </tr>\n",
              "    <tr>\n",
              "      <th>3</th>\n",
              "      <td>[0 false, 1 true, 2 true]</td>\n",
              "      <td>71165</td>\n",
              "    </tr>\n",
              "    <tr>\n",
              "      <th>4</th>\n",
              "      <td>[0 true, 1 false, 2 false]</td>\n",
              "      <td>153906</td>\n",
              "    </tr>\n",
              "    <tr>\n",
              "      <th>5</th>\n",
              "      <td>[0 true, 1 false, 2 true]</td>\n",
              "      <td>68554</td>\n",
              "    </tr>\n",
              "    <tr>\n",
              "      <th>6</th>\n",
              "      <td>[0 true, 1 true, 2 false]</td>\n",
              "      <td>146448</td>\n",
              "    </tr>\n",
              "    <tr>\n",
              "      <th>7</th>\n",
              "      <td>[0 true, 1 true, 2 true]</td>\n",
              "      <td>65232</td>\n",
              "    </tr>\n",
              "  </tbody>\n",
              "</table>\n",
              "</div>"
            ],
            "text/plain": [
              "                 0 and 1 and 2  values\n",
              "0  [0 false, 1 false, 2 false]   85244\n",
              "1   [0 false, 1 false, 2 true]   86860\n",
              "2   [0 false, 1 true, 2 false]   69841\n",
              "3    [0 false, 1 true, 2 true]   71165\n",
              "4   [0 true, 1 false, 2 false]  153906\n",
              "5    [0 true, 1 false, 2 true]   68554\n",
              "6    [0 true, 1 true, 2 false]  146448\n",
              "7     [0 true, 1 true, 2 true]   65232"
            ]
          },
          "metadata": {
            "tags": []
          },
          "execution_count": 58
        }
      ]
    },
    {
      "cell_type": "code",
      "metadata": {
        "id": "0mIDO3VipCD4",
        "colab": {
          "base_uri": "https://localhost:8080/",
          "height": 112
        },
        "outputId": "0442ff60-dfc0-4577-8bda-a1cc4ab321f0"
      },
      "source": [
        "# compute message {2}\n",
        "# sum based on 2 only because we send only {2}\n",
        "# 2 false, 2 true\n",
        "message012 = [ clique_potential012[0]+clique_potential012[2]+clique_potential012[4]+clique_potential012[6], \n",
        "              clique_potential012[1]+clique_potential012[3]+clique_potential012[5]+clique_potential012[7]]\n",
        "true_false2 = [[\"2 false\"], [\"2 true\"]]\n",
        "M_df2_1 = pd.DataFrame({ '2' : true_false2, 'values' : message012  })\n",
        "M_df2_1"
      ],
      "execution_count": 130,
      "outputs": [
        {
          "output_type": "execute_result",
          "data": {
            "text/html": [
              "<div>\n",
              "<style scoped>\n",
              "    .dataframe tbody tr th:only-of-type {\n",
              "        vertical-align: middle;\n",
              "    }\n",
              "\n",
              "    .dataframe tbody tr th {\n",
              "        vertical-align: top;\n",
              "    }\n",
              "\n",
              "    .dataframe thead th {\n",
              "        text-align: right;\n",
              "    }\n",
              "</style>\n",
              "<table border=\"1\" class=\"dataframe\">\n",
              "  <thead>\n",
              "    <tr style=\"text-align: right;\">\n",
              "      <th></th>\n",
              "      <th>2</th>\n",
              "      <th>values</th>\n",
              "    </tr>\n",
              "  </thead>\n",
              "  <tbody>\n",
              "    <tr>\n",
              "      <th>0</th>\n",
              "      <td>[2 false]</td>\n",
              "      <td>455439</td>\n",
              "    </tr>\n",
              "    <tr>\n",
              "      <th>1</th>\n",
              "      <td>[2 true]</td>\n",
              "      <td>291811</td>\n",
              "    </tr>\n",
              "  </tbody>\n",
              "</table>\n",
              "</div>"
            ],
            "text/plain": [
              "           2  values\n",
              "0  [2 false]  455439\n",
              "1   [2 true]  291811"
            ]
          },
          "metadata": {
            "tags": []
          },
          "execution_count": 130
        }
      ]
    },
    {
      "cell_type": "markdown",
      "metadata": {
        "id": "pZOq2bcmrWCV"
      },
      "source": [
        "2) Eliminating 4, and send {23} message to [2,3,6] clique"
      ]
    },
    {
      "cell_type": "code",
      "metadata": {
        "colab": {
          "base_uri": "https://localhost:8080/",
          "height": 175
        },
        "id": "kx-pj6z_7w7H",
        "outputId": "72f88cff-a73c-4b47-8ed8-9c94a718b81e"
      },
      "source": [
        "true_false24 = [[\"2 false\",\"4 false\"],[\"2 false\",\"4 true\"],[\"2 true\",\"4 false\"],[\"2 true\",\"4 true\"]]\n",
        "init_df24 = pd.DataFrame({ '2 and 4' : true_false24, 'values' : values[3]  })\n",
        "init_df24"
      ],
      "execution_count": null,
      "outputs": [
        {
          "output_type": "execute_result",
          "data": {
            "text/html": [
              "<div>\n",
              "<style scoped>\n",
              "    .dataframe tbody tr th:only-of-type {\n",
              "        vertical-align: middle;\n",
              "    }\n",
              "\n",
              "    .dataframe tbody tr th {\n",
              "        vertical-align: top;\n",
              "    }\n",
              "\n",
              "    .dataframe thead th {\n",
              "        text-align: right;\n",
              "    }\n",
              "</style>\n",
              "<table border=\"1\" class=\"dataframe\">\n",
              "  <thead>\n",
              "    <tr style=\"text-align: right;\">\n",
              "      <th></th>\n",
              "      <th>2 and 4</th>\n",
              "      <th>values</th>\n",
              "    </tr>\n",
              "  </thead>\n",
              "  <tbody>\n",
              "    <tr>\n",
              "      <th>0</th>\n",
              "      <td>[2 false, 4 false]</td>\n",
              "      <td>45</td>\n",
              "    </tr>\n",
              "    <tr>\n",
              "      <th>1</th>\n",
              "      <td>[2 false, 4 true]</td>\n",
              "      <td>401</td>\n",
              "    </tr>\n",
              "    <tr>\n",
              "      <th>2</th>\n",
              "      <td>[2 true, 4 false]</td>\n",
              "      <td>42</td>\n",
              "    </tr>\n",
              "    <tr>\n",
              "      <th>3</th>\n",
              "      <td>[2 true, 4 true]</td>\n",
              "      <td>101</td>\n",
              "    </tr>\n",
              "  </tbody>\n",
              "</table>\n",
              "</div>"
            ],
            "text/plain": [
              "              2 and 4  values\n",
              "0  [2 false, 4 false]      45\n",
              "1   [2 false, 4 true]     401\n",
              "2   [2 true, 4 false]      42\n",
              "3    [2 true, 4 true]     101"
            ]
          },
          "metadata": {
            "tags": []
          },
          "execution_count": 60
        }
      ]
    },
    {
      "cell_type": "code",
      "metadata": {
        "colab": {
          "base_uri": "https://localhost:8080/",
          "height": 175
        },
        "id": "YONEKQm57xVt",
        "outputId": "c754083e-18ba-4817-f62f-a70252330c2f"
      },
      "source": [
        "true_false34 = [[\"3 false\",\"4 false\"],[\"3 false\",\"4 true\"],[\"3 true\",\"4 false\"],[\"3 true\",\"4 true\"]]\n",
        "init_df34 = pd.DataFrame({ '3 and 4' : true_false34, 'values' : values[5]  })\n",
        "init_df34"
      ],
      "execution_count": null,
      "outputs": [
        {
          "output_type": "execute_result",
          "data": {
            "text/html": [
              "<div>\n",
              "<style scoped>\n",
              "    .dataframe tbody tr th:only-of-type {\n",
              "        vertical-align: middle;\n",
              "    }\n",
              "\n",
              "    .dataframe tbody tr th {\n",
              "        vertical-align: top;\n",
              "    }\n",
              "\n",
              "    .dataframe thead th {\n",
              "        text-align: right;\n",
              "    }\n",
              "</style>\n",
              "<table border=\"1\" class=\"dataframe\">\n",
              "  <thead>\n",
              "    <tr style=\"text-align: right;\">\n",
              "      <th></th>\n",
              "      <th>3 and 4</th>\n",
              "      <th>values</th>\n",
              "    </tr>\n",
              "  </thead>\n",
              "  <tbody>\n",
              "    <tr>\n",
              "      <th>0</th>\n",
              "      <td>[3 false, 4 false]</td>\n",
              "      <td>393</td>\n",
              "    </tr>\n",
              "    <tr>\n",
              "      <th>1</th>\n",
              "      <td>[3 false, 4 true]</td>\n",
              "      <td>168</td>\n",
              "    </tr>\n",
              "    <tr>\n",
              "      <th>2</th>\n",
              "      <td>[3 true, 4 false]</td>\n",
              "      <td>323</td>\n",
              "    </tr>\n",
              "    <tr>\n",
              "      <th>3</th>\n",
              "      <td>[3 true, 4 true]</td>\n",
              "      <td>270</td>\n",
              "    </tr>\n",
              "  </tbody>\n",
              "</table>\n",
              "</div>"
            ],
            "text/plain": [
              "              3 and 4  values\n",
              "0  [3 false, 4 false]     393\n",
              "1   [3 false, 4 true]     168\n",
              "2   [3 true, 4 false]     323\n",
              "3    [3 true, 4 true]     270"
            ]
          },
          "metadata": {
            "tags": []
          },
          "execution_count": 61
        }
      ]
    },
    {
      "cell_type": "code",
      "metadata": {
        "colab": {
          "base_uri": "https://localhost:8080/",
          "height": 300
        },
        "id": "B5UZKhLP7xb7",
        "outputId": "bdeb4ed4-5fcc-4d27-bd73-d75ad487531f"
      },
      "source": [
        "# compute clique potentials\n",
        "true_false234 = [[\"2 false\", \"3 false\", \"4 false\"], [\"2 false\", \"3 false\", \"4 true\"], [\"2 false\", \"3 true\", \"4 false\"],\n",
        "               [\"2 false\", \"3 true\", \"4 true\"], [\"2 true\", \"3 false\", \"4 false\"], [\"2 true\", \"3 false\", \"4 true\"], \n",
        "               [\"2 true\", \"3 true\", \"4 false\"], [\"2 true\", \"3 true\", \"4 true\"] ]\n",
        "clique_potential234 = [ values[3][0]*values[5][0], values[3][0]*values[5][1], values[3][0]*values[5][2],\n",
        "                        values[3][1]*values[5][3], values[3][2]*values[5][0], values[3][3]*values[5][0],\n",
        "                        values[3][2]*values[5][2], values[3][3]*values[5][3] ]\n",
        "CP_df234 = pd.DataFrame({ '2 and 3 and 4' : true_false234, 'values' : clique_potential234  })\n",
        "CP_df234"
      ],
      "execution_count": null,
      "outputs": [
        {
          "output_type": "execute_result",
          "data": {
            "text/html": [
              "<div>\n",
              "<style scoped>\n",
              "    .dataframe tbody tr th:only-of-type {\n",
              "        vertical-align: middle;\n",
              "    }\n",
              "\n",
              "    .dataframe tbody tr th {\n",
              "        vertical-align: top;\n",
              "    }\n",
              "\n",
              "    .dataframe thead th {\n",
              "        text-align: right;\n",
              "    }\n",
              "</style>\n",
              "<table border=\"1\" class=\"dataframe\">\n",
              "  <thead>\n",
              "    <tr style=\"text-align: right;\">\n",
              "      <th></th>\n",
              "      <th>2 and 3 and 4</th>\n",
              "      <th>values</th>\n",
              "    </tr>\n",
              "  </thead>\n",
              "  <tbody>\n",
              "    <tr>\n",
              "      <th>0</th>\n",
              "      <td>[2 false, 3 false, 4 false]</td>\n",
              "      <td>17685</td>\n",
              "    </tr>\n",
              "    <tr>\n",
              "      <th>1</th>\n",
              "      <td>[2 false, 3 false, 4 true]</td>\n",
              "      <td>7560</td>\n",
              "    </tr>\n",
              "    <tr>\n",
              "      <th>2</th>\n",
              "      <td>[2 false, 3 true, 4 false]</td>\n",
              "      <td>14535</td>\n",
              "    </tr>\n",
              "    <tr>\n",
              "      <th>3</th>\n",
              "      <td>[2 false, 3 true, 4 true]</td>\n",
              "      <td>108270</td>\n",
              "    </tr>\n",
              "    <tr>\n",
              "      <th>4</th>\n",
              "      <td>[2 true, 3 false, 4 false]</td>\n",
              "      <td>16506</td>\n",
              "    </tr>\n",
              "    <tr>\n",
              "      <th>5</th>\n",
              "      <td>[2 true, 3 false, 4 true]</td>\n",
              "      <td>39693</td>\n",
              "    </tr>\n",
              "    <tr>\n",
              "      <th>6</th>\n",
              "      <td>[2 true, 3 true, 4 false]</td>\n",
              "      <td>13566</td>\n",
              "    </tr>\n",
              "    <tr>\n",
              "      <th>7</th>\n",
              "      <td>[2 true, 3 true, 4 true]</td>\n",
              "      <td>27270</td>\n",
              "    </tr>\n",
              "  </tbody>\n",
              "</table>\n",
              "</div>"
            ],
            "text/plain": [
              "                 2 and 3 and 4  values\n",
              "0  [2 false, 3 false, 4 false]   17685\n",
              "1   [2 false, 3 false, 4 true]    7560\n",
              "2   [2 false, 3 true, 4 false]   14535\n",
              "3    [2 false, 3 true, 4 true]  108270\n",
              "4   [2 true, 3 false, 4 false]   16506\n",
              "5    [2 true, 3 false, 4 true]   39693\n",
              "6    [2 true, 3 true, 4 false]   13566\n",
              "7     [2 true, 3 true, 4 true]   27270"
            ]
          },
          "metadata": {
            "tags": []
          },
          "execution_count": 62
        }
      ]
    },
    {
      "cell_type": "code",
      "metadata": {
        "colab": {
          "base_uri": "https://localhost:8080/",
          "height": 175
        },
        "id": "DmyaSvPR74pF",
        "outputId": "bebe3985-b86c-474f-80ad-456ba1ebbfcd"
      },
      "source": [
        "# compute messages\n",
        "# sum based on 2 and 3 \n",
        "# 2 false 3 false, 2 false 3 true, 2 true 3 false, 2 true 3 true\n",
        "message234 = [ clique_potential234[0]+clique_potential234[1], clique_potential234[2]+clique_potential234[3], \n",
        "              clique_potential234[4]+clique_potential234[5], clique_potential234[6]+clique_potential234[7]]\n",
        "true_false23 = [[\"2 false\", \"3 false\"], [\"2 false\", \"3 true\"], [\"2 true\", \"3 false\"], [\"2 true\", \"3 true\"] ]\n",
        "M_df23_1 = pd.DataFrame({ '2 and 3' : true_false23, 'values' : message234  })\n",
        "M_df23_1"
      ],
      "execution_count": null,
      "outputs": [
        {
          "output_type": "execute_result",
          "data": {
            "text/html": [
              "<div>\n",
              "<style scoped>\n",
              "    .dataframe tbody tr th:only-of-type {\n",
              "        vertical-align: middle;\n",
              "    }\n",
              "\n",
              "    .dataframe tbody tr th {\n",
              "        vertical-align: top;\n",
              "    }\n",
              "\n",
              "    .dataframe thead th {\n",
              "        text-align: right;\n",
              "    }\n",
              "</style>\n",
              "<table border=\"1\" class=\"dataframe\">\n",
              "  <thead>\n",
              "    <tr style=\"text-align: right;\">\n",
              "      <th></th>\n",
              "      <th>2 and 3</th>\n",
              "      <th>values</th>\n",
              "    </tr>\n",
              "  </thead>\n",
              "  <tbody>\n",
              "    <tr>\n",
              "      <th>0</th>\n",
              "      <td>[2 false, 3 false]</td>\n",
              "      <td>25245</td>\n",
              "    </tr>\n",
              "    <tr>\n",
              "      <th>1</th>\n",
              "      <td>[2 false, 3 true]</td>\n",
              "      <td>122805</td>\n",
              "    </tr>\n",
              "    <tr>\n",
              "      <th>2</th>\n",
              "      <td>[2 true, 3 false]</td>\n",
              "      <td>56199</td>\n",
              "    </tr>\n",
              "    <tr>\n",
              "      <th>3</th>\n",
              "      <td>[2 true, 3 true]</td>\n",
              "      <td>40836</td>\n",
              "    </tr>\n",
              "  </tbody>\n",
              "</table>\n",
              "</div>"
            ],
            "text/plain": [
              "              2 and 3  values\n",
              "0  [2 false, 3 false]   25245\n",
              "1   [2 false, 3 true]  122805\n",
              "2   [2 true, 3 false]   56199\n",
              "3    [2 true, 3 true]   40836"
            ]
          },
          "metadata": {
            "tags": []
          },
          "execution_count": 106
        }
      ]
    },
    {
      "cell_type": "markdown",
      "metadata": {
        "id": "YoNQxpppuveu"
      },
      "source": [
        "3) Eliminating 2, and send {36} message to [3,5,6]"
      ]
    },
    {
      "cell_type": "code",
      "metadata": {
        "id": "FfQ5NF0l9y5W",
        "colab": {
          "base_uri": "https://localhost:8080/",
          "height": 175
        },
        "outputId": "b016f5ab-b37e-4af0-da96-471335df2b8d"
      },
      "source": [
        "true_false23 = [[\"2 false\",\"3 false\"],[\"2 false\",\"3 true\"],[\"2 true\",\"3 false\"],[\"2 true\",\"3 true\"]]\n",
        "init_df23 = pd.DataFrame({ '2 and 3' : true_false23, 'values' : values[2]  })\n",
        "init_df23"
      ],
      "execution_count": null,
      "outputs": [
        {
          "output_type": "execute_result",
          "data": {
            "text/html": [
              "<div>\n",
              "<style scoped>\n",
              "    .dataframe tbody tr th:only-of-type {\n",
              "        vertical-align: middle;\n",
              "    }\n",
              "\n",
              "    .dataframe tbody tr th {\n",
              "        vertical-align: top;\n",
              "    }\n",
              "\n",
              "    .dataframe thead th {\n",
              "        text-align: right;\n",
              "    }\n",
              "</style>\n",
              "<table border=\"1\" class=\"dataframe\">\n",
              "  <thead>\n",
              "    <tr style=\"text-align: right;\">\n",
              "      <th></th>\n",
              "      <th>2 and 3</th>\n",
              "      <th>values</th>\n",
              "    </tr>\n",
              "  </thead>\n",
              "  <tbody>\n",
              "    <tr>\n",
              "      <th>0</th>\n",
              "      <td>[2 false, 3 false]</td>\n",
              "      <td>394</td>\n",
              "    </tr>\n",
              "    <tr>\n",
              "      <th>1</th>\n",
              "      <td>[2 false, 3 true]</td>\n",
              "      <td>206</td>\n",
              "    </tr>\n",
              "    <tr>\n",
              "      <th>2</th>\n",
              "      <td>[2 true, 3 false]</td>\n",
              "      <td>122</td>\n",
              "    </tr>\n",
              "    <tr>\n",
              "      <th>3</th>\n",
              "      <td>[2 true, 3 true]</td>\n",
              "      <td>468</td>\n",
              "    </tr>\n",
              "  </tbody>\n",
              "</table>\n",
              "</div>"
            ],
            "text/plain": [
              "              2 and 3  values\n",
              "0  [2 false, 3 false]     394\n",
              "1   [2 false, 3 true]     206\n",
              "2   [2 true, 3 false]     122\n",
              "3    [2 true, 3 true]     468"
            ]
          },
          "metadata": {
            "tags": []
          },
          "execution_count": 64
        }
      ]
    },
    {
      "cell_type": "code",
      "metadata": {
        "id": "Xq23PbeW_cdc",
        "colab": {
          "base_uri": "https://localhost:8080/",
          "height": 175
        },
        "outputId": "fcc6ced6-1afe-4a9f-fe4d-578f5398b46e"
      },
      "source": [
        "true_false26 = [[\"2 false\",\"6 false\"],[\"2 false\",\"6 true\"],[\"2 true\",\"6 false\"],[\"2 true\",\"6 true\"]]\n",
        "init_df26 = pd.DataFrame({ '2 and 6' : true_false26, 'values' : values[4]  })\n",
        "init_df26"
      ],
      "execution_count": null,
      "outputs": [
        {
          "output_type": "execute_result",
          "data": {
            "text/html": [
              "<div>\n",
              "<style scoped>\n",
              "    .dataframe tbody tr th:only-of-type {\n",
              "        vertical-align: middle;\n",
              "    }\n",
              "\n",
              "    .dataframe tbody tr th {\n",
              "        vertical-align: top;\n",
              "    }\n",
              "\n",
              "    .dataframe thead th {\n",
              "        text-align: right;\n",
              "    }\n",
              "</style>\n",
              "<table border=\"1\" class=\"dataframe\">\n",
              "  <thead>\n",
              "    <tr style=\"text-align: right;\">\n",
              "      <th></th>\n",
              "      <th>2 and 6</th>\n",
              "      <th>values</th>\n",
              "    </tr>\n",
              "  </thead>\n",
              "  <tbody>\n",
              "    <tr>\n",
              "      <th>0</th>\n",
              "      <td>[2 false, 6 false]</td>\n",
              "      <td>82</td>\n",
              "    </tr>\n",
              "    <tr>\n",
              "      <th>1</th>\n",
              "      <td>[2 false, 6 true]</td>\n",
              "      <td>187</td>\n",
              "    </tr>\n",
              "    <tr>\n",
              "      <th>2</th>\n",
              "      <td>[2 true, 6 false]</td>\n",
              "      <td>396</td>\n",
              "    </tr>\n",
              "    <tr>\n",
              "      <th>3</th>\n",
              "      <td>[2 true, 6 true]</td>\n",
              "      <td>48</td>\n",
              "    </tr>\n",
              "  </tbody>\n",
              "</table>\n",
              "</div>"
            ],
            "text/plain": [
              "              2 and 6  values\n",
              "0  [2 false, 6 false]      82\n",
              "1   [2 false, 6 true]     187\n",
              "2   [2 true, 6 false]     396\n",
              "3    [2 true, 6 true]      48"
            ]
          },
          "metadata": {
            "tags": []
          },
          "execution_count": 65
        }
      ]
    },
    {
      "cell_type": "code",
      "metadata": {
        "id": "jc6AVQq2_clE",
        "colab": {
          "base_uri": "https://localhost:8080/",
          "height": 300
        },
        "outputId": "882324a1-cf76-4abc-aae7-cc383a4742c9"
      },
      "source": [
        "# compute clique potential\n",
        "true_false236 = [[\"2 false\", \"3 false\", \"6 false\"], [\"2 false\", \"3 false\", \"6 true\"], [\"2 false\", \"3 true\", \"6 false\"],\n",
        "               [\"2 false\", \"3 true\", \"6 true\"], [\"2 true\", \"3 false\", \"6 false\"], [\"2 true\", \"3 false\", \"6 true\"], \n",
        "               [\"2 true\", \"3 true\", \"6 false\"], [\"2 true\", \"3 true\", \"6 true\"] ]\n",
        "clique_potential236 = [ values[2][0]*values[4][0], values[2][0]*values[4][1], values[2][1]*values[4][0],\n",
        "           values[2][1]*values[4][1], values[2][2]*values[4][2], values[2][2]*values[4][3],\n",
        "           values[2][3]*values[4][2], values[2][3]*values[4][3] ]\n",
        "CP_df236 = pd.DataFrame({ '2 and 3 and 6' : true_false236, 'values' : clique_potential236  })\n",
        "CP_df236"
      ],
      "execution_count": null,
      "outputs": [
        {
          "output_type": "execute_result",
          "data": {
            "text/html": [
              "<div>\n",
              "<style scoped>\n",
              "    .dataframe tbody tr th:only-of-type {\n",
              "        vertical-align: middle;\n",
              "    }\n",
              "\n",
              "    .dataframe tbody tr th {\n",
              "        vertical-align: top;\n",
              "    }\n",
              "\n",
              "    .dataframe thead th {\n",
              "        text-align: right;\n",
              "    }\n",
              "</style>\n",
              "<table border=\"1\" class=\"dataframe\">\n",
              "  <thead>\n",
              "    <tr style=\"text-align: right;\">\n",
              "      <th></th>\n",
              "      <th>2 and 3 and 6</th>\n",
              "      <th>values</th>\n",
              "    </tr>\n",
              "  </thead>\n",
              "  <tbody>\n",
              "    <tr>\n",
              "      <th>0</th>\n",
              "      <td>[2 false, 3 false, 6 false]</td>\n",
              "      <td>32308</td>\n",
              "    </tr>\n",
              "    <tr>\n",
              "      <th>1</th>\n",
              "      <td>[2 false, 3 false, 6 true]</td>\n",
              "      <td>73678</td>\n",
              "    </tr>\n",
              "    <tr>\n",
              "      <th>2</th>\n",
              "      <td>[2 false, 3 true, 6 false]</td>\n",
              "      <td>16892</td>\n",
              "    </tr>\n",
              "    <tr>\n",
              "      <th>3</th>\n",
              "      <td>[2 false, 3 true, 6 true]</td>\n",
              "      <td>38522</td>\n",
              "    </tr>\n",
              "    <tr>\n",
              "      <th>4</th>\n",
              "      <td>[2 true, 3 false, 6 false]</td>\n",
              "      <td>48312</td>\n",
              "    </tr>\n",
              "    <tr>\n",
              "      <th>5</th>\n",
              "      <td>[2 true, 3 false, 6 true]</td>\n",
              "      <td>5856</td>\n",
              "    </tr>\n",
              "    <tr>\n",
              "      <th>6</th>\n",
              "      <td>[2 true, 3 true, 6 false]</td>\n",
              "      <td>185328</td>\n",
              "    </tr>\n",
              "    <tr>\n",
              "      <th>7</th>\n",
              "      <td>[2 true, 3 true, 6 true]</td>\n",
              "      <td>22464</td>\n",
              "    </tr>\n",
              "  </tbody>\n",
              "</table>\n",
              "</div>"
            ],
            "text/plain": [
              "                 2 and 3 and 6  values\n",
              "0  [2 false, 3 false, 6 false]   32308\n",
              "1   [2 false, 3 false, 6 true]   73678\n",
              "2   [2 false, 3 true, 6 false]   16892\n",
              "3    [2 false, 3 true, 6 true]   38522\n",
              "4   [2 true, 3 false, 6 false]   48312\n",
              "5    [2 true, 3 false, 6 true]    5856\n",
              "6    [2 true, 3 true, 6 false]  185328\n",
              "7     [2 true, 3 true, 6 true]   22464"
            ]
          },
          "metadata": {
            "tags": []
          },
          "execution_count": 66
        }
      ]
    },
    {
      "cell_type": "code",
      "metadata": {
        "id": "ixQmKVc7_crH",
        "colab": {
          "base_uri": "https://localhost:8080/",
          "height": 175
        },
        "outputId": "f3df5812-c69a-4ff9-bc81-07a7545b450f"
      },
      "source": [
        "# compute message {36}\n",
        "# sum based on 3 and 6 \n",
        "# 3 false 6 false, 3 false 6 true, 3 true 6 false, 3 true 6 true\n",
        "message236 = [ clique_potential236[0]+clique_potential236[4], clique_potential236[2]+clique_potential236[5], \n",
        "              clique_potential236[2]+clique_potential236[6], clique_potential236[3]+clique_potential236[7]]\n",
        "true_false36 = [[\"3 false\", \"6 false\"], [\"3 false\", \"6 true\"], [\"3 true\", \"6 false\"], [\"3 true\", \"6 true\"] ]\n",
        "M_df36_1 = pd.DataFrame({ '3 and 6' : true_false36, 'values' : message236  })\n",
        "M_df36_1"
      ],
      "execution_count": 131,
      "outputs": [
        {
          "output_type": "execute_result",
          "data": {
            "text/html": [
              "<div>\n",
              "<style scoped>\n",
              "    .dataframe tbody tr th:only-of-type {\n",
              "        vertical-align: middle;\n",
              "    }\n",
              "\n",
              "    .dataframe tbody tr th {\n",
              "        vertical-align: top;\n",
              "    }\n",
              "\n",
              "    .dataframe thead th {\n",
              "        text-align: right;\n",
              "    }\n",
              "</style>\n",
              "<table border=\"1\" class=\"dataframe\">\n",
              "  <thead>\n",
              "    <tr style=\"text-align: right;\">\n",
              "      <th></th>\n",
              "      <th>3 and 6</th>\n",
              "      <th>values</th>\n",
              "    </tr>\n",
              "  </thead>\n",
              "  <tbody>\n",
              "    <tr>\n",
              "      <th>0</th>\n",
              "      <td>[3 false, 6 false]</td>\n",
              "      <td>80620</td>\n",
              "    </tr>\n",
              "    <tr>\n",
              "      <th>1</th>\n",
              "      <td>[3 false, 6 true]</td>\n",
              "      <td>22748</td>\n",
              "    </tr>\n",
              "    <tr>\n",
              "      <th>2</th>\n",
              "      <td>[3 true, 6 false]</td>\n",
              "      <td>202220</td>\n",
              "    </tr>\n",
              "    <tr>\n",
              "      <th>3</th>\n",
              "      <td>[3 true, 6 true]</td>\n",
              "      <td>60986</td>\n",
              "    </tr>\n",
              "  </tbody>\n",
              "</table>\n",
              "</div>"
            ],
            "text/plain": [
              "              3 and 6  values\n",
              "0  [3 false, 6 false]   80620\n",
              "1   [3 false, 6 true]   22748\n",
              "2   [3 true, 6 false]  202220\n",
              "3    [3 true, 6 true]   60986"
            ]
          },
          "metadata": {
            "tags": []
          },
          "execution_count": 131
        }
      ]
    },
    {
      "cell_type": "markdown",
      "metadata": {
        "id": "LbOTkyJp_iDo"
      },
      "source": [
        "\n",
        "\n",
        "---\n",
        "\n"
      ]
    },
    {
      "cell_type": "markdown",
      "metadata": {
        "id": "aCUb0pmXD3lB"
      },
      "source": [
        "**Calculate messages sent back through cliques**"
      ]
    },
    {
      "cell_type": "markdown",
      "metadata": {
        "id": "JLlCU-NCxWq1"
      },
      "source": [
        "1) Sending message back, eliminating 5, send {3,6} from [3,5,6] to [2,3,6]"
      ]
    },
    {
      "cell_type": "code",
      "metadata": {
        "colab": {
          "base_uri": "https://localhost:8080/",
          "height": 175
        },
        "id": "UbVGe8Aexxjv",
        "outputId": "37c05a8f-04d3-4359-d00a-b0b9df570022"
      },
      "source": [
        "true_false35 = [[\"3 false\",\"5 false\"],[\"3 false\",\"5 true\"],[\"3 true\",\"5 false\"],[\"3 true\",\"5 true\"]]\n",
        "init_df35 = pd.DataFrame({ '3 and 5' : true_false35, 'values' : values[6]  })\n",
        "init_df35"
      ],
      "execution_count": null,
      "outputs": [
        {
          "output_type": "execute_result",
          "data": {
            "text/html": [
              "<div>\n",
              "<style scoped>\n",
              "    .dataframe tbody tr th:only-of-type {\n",
              "        vertical-align: middle;\n",
              "    }\n",
              "\n",
              "    .dataframe tbody tr th {\n",
              "        vertical-align: top;\n",
              "    }\n",
              "\n",
              "    .dataframe thead th {\n",
              "        text-align: right;\n",
              "    }\n",
              "</style>\n",
              "<table border=\"1\" class=\"dataframe\">\n",
              "  <thead>\n",
              "    <tr style=\"text-align: right;\">\n",
              "      <th></th>\n",
              "      <th>3 and 5</th>\n",
              "      <th>values</th>\n",
              "    </tr>\n",
              "  </thead>\n",
              "  <tbody>\n",
              "    <tr>\n",
              "      <th>0</th>\n",
              "      <td>[3 false, 5 false]</td>\n",
              "      <td>496</td>\n",
              "    </tr>\n",
              "    <tr>\n",
              "      <th>1</th>\n",
              "      <td>[3 false, 5 true]</td>\n",
              "      <td>262</td>\n",
              "    </tr>\n",
              "    <tr>\n",
              "      <th>2</th>\n",
              "      <td>[3 true, 5 false]</td>\n",
              "      <td>307</td>\n",
              "    </tr>\n",
              "    <tr>\n",
              "      <th>3</th>\n",
              "      <td>[3 true, 5 true]</td>\n",
              "      <td>191</td>\n",
              "    </tr>\n",
              "  </tbody>\n",
              "</table>\n",
              "</div>"
            ],
            "text/plain": [
              "              3 and 5  values\n",
              "0  [3 false, 5 false]     496\n",
              "1   [3 false, 5 true]     262\n",
              "2   [3 true, 5 false]     307\n",
              "3    [3 true, 5 true]     191"
            ]
          },
          "metadata": {
            "tags": []
          },
          "execution_count": 43
        }
      ]
    },
    {
      "cell_type": "code",
      "metadata": {
        "id": "QsyGQjdLrMov",
        "colab": {
          "base_uri": "https://localhost:8080/",
          "height": 175
        },
        "outputId": "bc036ff3-79fe-42da-80c6-3d58dabd46c2"
      },
      "source": [
        "true_false56 = [[\"5 false\",\"6 false\"],[\"5 false\",\"6 true\"],[\"5 true\",\"6 false\"],[\"5 true\",\"6 true\"]]\n",
        "init_df56 = pd.DataFrame({ '5 and 6' : true_false56, 'values' : values[7]  })\n",
        "init_df56"
      ],
      "execution_count": null,
      "outputs": [
        {
          "output_type": "execute_result",
          "data": {
            "text/html": [
              "<div>\n",
              "<style scoped>\n",
              "    .dataframe tbody tr th:only-of-type {\n",
              "        vertical-align: middle;\n",
              "    }\n",
              "\n",
              "    .dataframe tbody tr th {\n",
              "        vertical-align: top;\n",
              "    }\n",
              "\n",
              "    .dataframe thead th {\n",
              "        text-align: right;\n",
              "    }\n",
              "</style>\n",
              "<table border=\"1\" class=\"dataframe\">\n",
              "  <thead>\n",
              "    <tr style=\"text-align: right;\">\n",
              "      <th></th>\n",
              "      <th>5 and 6</th>\n",
              "      <th>values</th>\n",
              "    </tr>\n",
              "  </thead>\n",
              "  <tbody>\n",
              "    <tr>\n",
              "      <th>0</th>\n",
              "      <td>[5 false, 6 false]</td>\n",
              "      <td>47</td>\n",
              "    </tr>\n",
              "    <tr>\n",
              "      <th>1</th>\n",
              "      <td>[5 false, 6 true]</td>\n",
              "      <td>200</td>\n",
              "    </tr>\n",
              "    <tr>\n",
              "      <th>2</th>\n",
              "      <td>[5 true, 6 false]</td>\n",
              "      <td>160</td>\n",
              "    </tr>\n",
              "    <tr>\n",
              "      <th>3</th>\n",
              "      <td>[5 true, 6 true]</td>\n",
              "      <td>199</td>\n",
              "    </tr>\n",
              "  </tbody>\n",
              "</table>\n",
              "</div>"
            ],
            "text/plain": [
              "              5 and 6  values\n",
              "0  [5 false, 6 false]      47\n",
              "1   [5 false, 6 true]     200\n",
              "2   [5 true, 6 false]     160\n",
              "3    [5 true, 6 true]     199"
            ]
          },
          "metadata": {
            "tags": []
          },
          "execution_count": 68
        }
      ]
    },
    {
      "cell_type": "code",
      "metadata": {
        "colab": {
          "base_uri": "https://localhost:8080/",
          "height": 300
        },
        "id": "22vJ2VvBxyMC",
        "outputId": "ac13aec5-bd26-4d22-ee46-8d26e7027d1d"
      },
      "source": [
        "# compute clique potential\n",
        "true_false356 = [[\"3 false\", \"5 false\", \"6 false\"], [\"3 false\", \"5 false\", \"6 true\"], [\"3 false\", \"5 true\", \"6 false\"],\n",
        "               [\"3 false\", \"5 true\", \"6 true\"], [\"3 true\", \"5 false\", \"6 false\"], [\"3 true\", \"5 false\", \"6 true\"], \n",
        "               [\"3 true\", \"5 true\", \"6 false\"], [\"3 true\", \"5 true\", \"6 true\"] ]\n",
        "clique_potential356 = [ values[6][0]*values[7][0], values[6][0]*values[7][1], values[6][1]*values[7][0],\n",
        "           values[6][1]*values[7][1], values[6][2]*values[7][2], values[6][2]*values[7][3],\n",
        "           values[6][3]*values[7][2], values[6][3]*values[7][3] ]\n",
        "CP_df356 = pd.DataFrame({ '3 and 5 and 6' : true_false356, 'values' : clique_potential356  })\n",
        "CP_df356"
      ],
      "execution_count": null,
      "outputs": [
        {
          "output_type": "execute_result",
          "data": {
            "text/html": [
              "<div>\n",
              "<style scoped>\n",
              "    .dataframe tbody tr th:only-of-type {\n",
              "        vertical-align: middle;\n",
              "    }\n",
              "\n",
              "    .dataframe tbody tr th {\n",
              "        vertical-align: top;\n",
              "    }\n",
              "\n",
              "    .dataframe thead th {\n",
              "        text-align: right;\n",
              "    }\n",
              "</style>\n",
              "<table border=\"1\" class=\"dataframe\">\n",
              "  <thead>\n",
              "    <tr style=\"text-align: right;\">\n",
              "      <th></th>\n",
              "      <th>3 and 5 and 6</th>\n",
              "      <th>values</th>\n",
              "    </tr>\n",
              "  </thead>\n",
              "  <tbody>\n",
              "    <tr>\n",
              "      <th>0</th>\n",
              "      <td>[3 false, 5 false, 6 false]</td>\n",
              "      <td>23312</td>\n",
              "    </tr>\n",
              "    <tr>\n",
              "      <th>1</th>\n",
              "      <td>[3 false, 5 false, 6 true]</td>\n",
              "      <td>99200</td>\n",
              "    </tr>\n",
              "    <tr>\n",
              "      <th>2</th>\n",
              "      <td>[3 false, 5 true, 6 false]</td>\n",
              "      <td>12314</td>\n",
              "    </tr>\n",
              "    <tr>\n",
              "      <th>3</th>\n",
              "      <td>[3 false, 5 true, 6 true]</td>\n",
              "      <td>52400</td>\n",
              "    </tr>\n",
              "    <tr>\n",
              "      <th>4</th>\n",
              "      <td>[3 true, 5 false, 6 false]</td>\n",
              "      <td>49120</td>\n",
              "    </tr>\n",
              "    <tr>\n",
              "      <th>5</th>\n",
              "      <td>[3 true, 5 false, 6 true]</td>\n",
              "      <td>61093</td>\n",
              "    </tr>\n",
              "    <tr>\n",
              "      <th>6</th>\n",
              "      <td>[3 true, 5 true, 6 false]</td>\n",
              "      <td>30560</td>\n",
              "    </tr>\n",
              "    <tr>\n",
              "      <th>7</th>\n",
              "      <td>[3 true, 5 true, 6 true]</td>\n",
              "      <td>38009</td>\n",
              "    </tr>\n",
              "  </tbody>\n",
              "</table>\n",
              "</div>"
            ],
            "text/plain": [
              "                 3 and 5 and 6  values\n",
              "0  [3 false, 5 false, 6 false]   23312\n",
              "1   [3 false, 5 false, 6 true]   99200\n",
              "2   [3 false, 5 true, 6 false]   12314\n",
              "3    [3 false, 5 true, 6 true]   52400\n",
              "4   [3 true, 5 false, 6 false]   49120\n",
              "5    [3 true, 5 false, 6 true]   61093\n",
              "6    [3 true, 5 true, 6 false]   30560\n",
              "7     [3 true, 5 true, 6 true]   38009"
            ]
          },
          "metadata": {
            "tags": []
          },
          "execution_count": 69
        }
      ]
    },
    {
      "cell_type": "code",
      "metadata": {
        "colab": {
          "base_uri": "https://localhost:8080/",
          "height": 175
        },
        "id": "vtwPkv4-xygD",
        "outputId": "6ea5d83d-ca42-4623-db2b-0d03fb2a7a2f"
      },
      "source": [
        "# compute messages\n",
        "# sum based on 3 and 6 \n",
        "# 3 false 6 false, 3 false 6 true, 3 true 6 false, 3 true 6 true\n",
        "message356_back = [ clique_potential356[0]+clique_potential356[2], clique_potential356[1]+clique_potential356[3], \n",
        "              clique_potential356[4]+clique_potential356[6], clique_potential356[5]+clique_potential356[7]]\n",
        "true_false36 = [[\"3 false\", \"6 false\"], [\"3 false\", \"6 true\"], [\"3 true\", \"6 false\"], [\"3 true\", \"6 true\"] ]\n",
        "M_df36_2 = pd.DataFrame({ '3 and 6' : true_false36, 'values' : message356_back  })\n",
        "M_df36_2"
      ],
      "execution_count": null,
      "outputs": [
        {
          "output_type": "execute_result",
          "data": {
            "text/html": [
              "<div>\n",
              "<style scoped>\n",
              "    .dataframe tbody tr th:only-of-type {\n",
              "        vertical-align: middle;\n",
              "    }\n",
              "\n",
              "    .dataframe tbody tr th {\n",
              "        vertical-align: top;\n",
              "    }\n",
              "\n",
              "    .dataframe thead th {\n",
              "        text-align: right;\n",
              "    }\n",
              "</style>\n",
              "<table border=\"1\" class=\"dataframe\">\n",
              "  <thead>\n",
              "    <tr style=\"text-align: right;\">\n",
              "      <th></th>\n",
              "      <th>3 and 6</th>\n",
              "      <th>values</th>\n",
              "    </tr>\n",
              "  </thead>\n",
              "  <tbody>\n",
              "    <tr>\n",
              "      <th>0</th>\n",
              "      <td>[3 false, 6 false]</td>\n",
              "      <td>35626</td>\n",
              "    </tr>\n",
              "    <tr>\n",
              "      <th>1</th>\n",
              "      <td>[3 false, 6 true]</td>\n",
              "      <td>151600</td>\n",
              "    </tr>\n",
              "    <tr>\n",
              "      <th>2</th>\n",
              "      <td>[3 true, 6 false]</td>\n",
              "      <td>79680</td>\n",
              "    </tr>\n",
              "    <tr>\n",
              "      <th>3</th>\n",
              "      <td>[3 true, 6 true]</td>\n",
              "      <td>99102</td>\n",
              "    </tr>\n",
              "  </tbody>\n",
              "</table>\n",
              "</div>"
            ],
            "text/plain": [
              "              3 and 6  values\n",
              "0  [3 false, 6 false]   35626\n",
              "1   [3 false, 6 true]  151600\n",
              "2   [3 true, 6 false]   79680\n",
              "3    [3 true, 6 true]   99102"
            ]
          },
          "metadata": {
            "tags": []
          },
          "execution_count": 90
        }
      ]
    },
    {
      "cell_type": "markdown",
      "metadata": {
        "id": "wYROcs19Gh7C"
      },
      "source": [
        "2) Eliminating 6, send {23} message from [236] to [234]"
      ]
    },
    {
      "cell_type": "code",
      "metadata": {
        "colab": {
          "base_uri": "https://localhost:8080/",
          "height": 175
        },
        "id": "V-v1c2ieiivD",
        "outputId": "52b1a76c-4b1e-4f51-9530-964510cc7d34"
      },
      "source": [
        "# based on 2 and 3 compose the message by summation\n",
        "# 2 false 3 false, 2 false 3 true, 2 true 3 false, 2 true 3 true\n",
        "# from [236] to [234]\n",
        "message236_back = [ clique_potential236[0]+clique_potential236[1], clique_potential236[2]+clique_potential236[3], \n",
        "                   clique_potential236[4]+clique_potential236[5], clique_potential236[6]+clique_potential236[7]]\n",
        "M_df23_2 = pd.DataFrame({ '2 and 3' : true_false23, 'values' : message236_back  })\n",
        "M_df23_2"
      ],
      "execution_count": 113,
      "outputs": [
        {
          "output_type": "execute_result",
          "data": {
            "text/html": [
              "<div>\n",
              "<style scoped>\n",
              "    .dataframe tbody tr th:only-of-type {\n",
              "        vertical-align: middle;\n",
              "    }\n",
              "\n",
              "    .dataframe tbody tr th {\n",
              "        vertical-align: top;\n",
              "    }\n",
              "\n",
              "    .dataframe thead th {\n",
              "        text-align: right;\n",
              "    }\n",
              "</style>\n",
              "<table border=\"1\" class=\"dataframe\">\n",
              "  <thead>\n",
              "    <tr style=\"text-align: right;\">\n",
              "      <th></th>\n",
              "      <th>2 and 3</th>\n",
              "      <th>values</th>\n",
              "    </tr>\n",
              "  </thead>\n",
              "  <tbody>\n",
              "    <tr>\n",
              "      <th>0</th>\n",
              "      <td>[2 false, 3 false]</td>\n",
              "      <td>105986</td>\n",
              "    </tr>\n",
              "    <tr>\n",
              "      <th>1</th>\n",
              "      <td>[2 false, 3 true]</td>\n",
              "      <td>55414</td>\n",
              "    </tr>\n",
              "    <tr>\n",
              "      <th>2</th>\n",
              "      <td>[2 true, 3 false]</td>\n",
              "      <td>54168</td>\n",
              "    </tr>\n",
              "    <tr>\n",
              "      <th>3</th>\n",
              "      <td>[2 true, 3 true]</td>\n",
              "      <td>207792</td>\n",
              "    </tr>\n",
              "  </tbody>\n",
              "</table>\n",
              "</div>"
            ],
            "text/plain": [
              "              2 and 3  values\n",
              "0  [2 false, 3 false]  105986\n",
              "1   [2 false, 3 true]   55414\n",
              "2   [2 true, 3 false]   54168\n",
              "3    [2 true, 3 true]  207792"
            ]
          },
          "metadata": {
            "tags": []
          },
          "execution_count": 113
        }
      ]
    },
    {
      "cell_type": "code",
      "metadata": {
        "id": "O7QD1wOCfMD2",
        "colab": {
          "base_uri": "https://localhost:8080/",
          "height": 112
        },
        "outputId": "b6e2490d-5a0d-4ef0-a621-6f4501ca9a28"
      },
      "source": [
        "# send message back from [234] to [012]\n",
        "# compute M_df2_2 (message234_back) by eliminating 3 and 4, and send {2} to [012]\n",
        "# based on 2 we form a message M_df2_2 from clique_potential234\n",
        "message234_back = [ clique_potential234[0]+clique_potential234[1]+clique_potential234[2]+clique_potential234[3], \n",
        "                   clique_potential234[4]+clique_potential234[5]+clique_potential234[6]+clique_potential234[7]]\n",
        "M_df2_2 = pd.DataFrame({ '2' : true_false2, 'values' : message234_back  })\n",
        "M_df2_2"
      ],
      "execution_count": 114,
      "outputs": [
        {
          "output_type": "execute_result",
          "data": {
            "text/html": [
              "<div>\n",
              "<style scoped>\n",
              "    .dataframe tbody tr th:only-of-type {\n",
              "        vertical-align: middle;\n",
              "    }\n",
              "\n",
              "    .dataframe tbody tr th {\n",
              "        vertical-align: top;\n",
              "    }\n",
              "\n",
              "    .dataframe thead th {\n",
              "        text-align: right;\n",
              "    }\n",
              "</style>\n",
              "<table border=\"1\" class=\"dataframe\">\n",
              "  <thead>\n",
              "    <tr style=\"text-align: right;\">\n",
              "      <th></th>\n",
              "      <th>2</th>\n",
              "      <th>values</th>\n",
              "    </tr>\n",
              "  </thead>\n",
              "  <tbody>\n",
              "    <tr>\n",
              "      <th>0</th>\n",
              "      <td>[2 false]</td>\n",
              "      <td>148050</td>\n",
              "    </tr>\n",
              "    <tr>\n",
              "      <th>1</th>\n",
              "      <td>[2 true]</td>\n",
              "      <td>97035</td>\n",
              "    </tr>\n",
              "  </tbody>\n",
              "</table>\n",
              "</div>"
            ],
            "text/plain": [
              "           2  values\n",
              "0  [2 false]  148050\n",
              "1   [2 true]   97035"
            ]
          },
          "metadata": {
            "tags": []
          },
          "execution_count": 114
        }
      ]
    },
    {
      "cell_type": "markdown",
      "metadata": {
        "id": "ItRsxZPx4VR0"
      },
      "source": [
        "\n",
        "\n",
        "---\n",
        "\n"
      ]
    },
    {
      "cell_type": "markdown",
      "metadata": {
        "id": "JftHsomaq603"
      },
      "source": [
        "**Calculating clique and sepset beliefs**"
      ]
    },
    {
      "cell_type": "markdown",
      "metadata": {
        "id": "xirweTrsvU4z"
      },
      "source": [
        "1) To calculate sepset belief between [236]-[356] cliques we multiply the messages {36}"
      ]
    },
    {
      "cell_type": "code",
      "metadata": {
        "colab": {
          "base_uri": "https://localhost:8080/",
          "height": 175
        },
        "id": "eZvLWzA7vpSx",
        "outputId": "cb445755-4828-41eb-80da-fdbba2384e98"
      },
      "source": [
        "# message236(M_df36_1) * message356_back (M_df36_2)\n",
        "sepset36 = [message236[0]*message356_back[0], message236[1]*message356_back[1], \n",
        "            message236[2]*message356_back[2], message236[3]*message356_back[3]]\n",
        "S_df36 = pd.DataFrame({'3 and 6': true_false36, 'values': sepset36})\n",
        "S_df36"
      ],
      "execution_count": 128,
      "outputs": [
        {
          "output_type": "execute_result",
          "data": {
            "text/html": [
              "<div>\n",
              "<style scoped>\n",
              "    .dataframe tbody tr th:only-of-type {\n",
              "        vertical-align: middle;\n",
              "    }\n",
              "\n",
              "    .dataframe tbody tr th {\n",
              "        vertical-align: top;\n",
              "    }\n",
              "\n",
              "    .dataframe thead th {\n",
              "        text-align: right;\n",
              "    }\n",
              "</style>\n",
              "<table border=\"1\" class=\"dataframe\">\n",
              "  <thead>\n",
              "    <tr style=\"text-align: right;\">\n",
              "      <th></th>\n",
              "      <th>3 and 6</th>\n",
              "      <th>values</th>\n",
              "    </tr>\n",
              "  </thead>\n",
              "  <tbody>\n",
              "    <tr>\n",
              "      <th>0</th>\n",
              "      <td>[3 false, 6 false]</td>\n",
              "      <td>2872168120</td>\n",
              "    </tr>\n",
              "    <tr>\n",
              "      <th>1</th>\n",
              "      <td>[3 false, 6 true]</td>\n",
              "      <td>3448596800</td>\n",
              "    </tr>\n",
              "    <tr>\n",
              "      <th>2</th>\n",
              "      <td>[3 true, 6 false]</td>\n",
              "      <td>16112889600</td>\n",
              "    </tr>\n",
              "    <tr>\n",
              "      <th>3</th>\n",
              "      <td>[3 true, 6 true]</td>\n",
              "      <td>6043834572</td>\n",
              "    </tr>\n",
              "  </tbody>\n",
              "</table>\n",
              "</div>"
            ],
            "text/plain": [
              "              3 and 6       values\n",
              "0  [3 false, 6 false]   2872168120\n",
              "1   [3 false, 6 true]   3448596800\n",
              "2   [3 true, 6 false]  16112889600\n",
              "3    [3 true, 6 true]   6043834572"
            ]
          },
          "metadata": {
            "tags": []
          },
          "execution_count": 128
        }
      ]
    },
    {
      "cell_type": "markdown",
      "metadata": {
        "id": "AMVHP_txz0JH"
      },
      "source": [
        "Now we need to multiply messages with corresponding clique potentials and get clique beliefs."
      ]
    },
    {
      "cell_type": "code",
      "metadata": {
        "colab": {
          "base_uri": "https://localhost:8080/",
          "height": 300
        },
        "id": "g_EbcAcvfBOA",
        "outputId": "68d3770f-9db1-4f42-9c56-db822a256299"
      },
      "source": [
        "# from [356] to [236], multiply clique_potential236 with the last M_df36_2 (message 356)\n",
        "clique_belief236_2 = [clique_potential236[0]*message356[0], clique_potential236[1]*message356[1], \n",
        "                      clique_potential236[2]*message356[2], clique_potential236[3]*message356[3], \n",
        "                      clique_potential236[4]*message356[0], clique_potential236[5]*message356[1],\n",
        "                      clique_potential236[6]*message356[2], clique_potential236[7]*message356[3]]\n",
        "CB_df236_2 = pd.DataFrame({ '2 and 3 and 6' : true_false236, 'values' : clique_belief236_2 })\n",
        "CB_df236_2"
      ],
      "execution_count": null,
      "outputs": [
        {
          "output_type": "execute_result",
          "data": {
            "text/html": [
              "<div>\n",
              "<style scoped>\n",
              "    .dataframe tbody tr th:only-of-type {\n",
              "        vertical-align: middle;\n",
              "    }\n",
              "\n",
              "    .dataframe tbody tr th {\n",
              "        vertical-align: top;\n",
              "    }\n",
              "\n",
              "    .dataframe thead th {\n",
              "        text-align: right;\n",
              "    }\n",
              "</style>\n",
              "<table border=\"1\" class=\"dataframe\">\n",
              "  <thead>\n",
              "    <tr style=\"text-align: right;\">\n",
              "      <th></th>\n",
              "      <th>2 and 3 and 6</th>\n",
              "      <th>values</th>\n",
              "    </tr>\n",
              "  </thead>\n",
              "  <tbody>\n",
              "    <tr>\n",
              "      <th>0</th>\n",
              "      <td>[2 false, 3 false, 6 false]</td>\n",
              "      <td>1151004808</td>\n",
              "    </tr>\n",
              "    <tr>\n",
              "      <th>1</th>\n",
              "      <td>[2 false, 3 false, 6 true]</td>\n",
              "      <td>11169584800</td>\n",
              "    </tr>\n",
              "    <tr>\n",
              "      <th>2</th>\n",
              "      <td>[2 false, 3 true, 6 false]</td>\n",
              "      <td>1345954560</td>\n",
              "    </tr>\n",
              "    <tr>\n",
              "      <th>3</th>\n",
              "      <td>[2 false, 3 true, 6 true]</td>\n",
              "      <td>3817607244</td>\n",
              "    </tr>\n",
              "    <tr>\n",
              "      <th>4</th>\n",
              "      <td>[2 true, 3 false, 6 false]</td>\n",
              "      <td>1721163312</td>\n",
              "    </tr>\n",
              "    <tr>\n",
              "      <th>5</th>\n",
              "      <td>[2 true, 3 false, 6 true]</td>\n",
              "      <td>887769600</td>\n",
              "    </tr>\n",
              "    <tr>\n",
              "      <th>6</th>\n",
              "      <td>[2 true, 3 true, 6 false]</td>\n",
              "      <td>14766935040</td>\n",
              "    </tr>\n",
              "    <tr>\n",
              "      <th>7</th>\n",
              "      <td>[2 true, 3 true, 6 true]</td>\n",
              "      <td>2226227328</td>\n",
              "    </tr>\n",
              "  </tbody>\n",
              "</table>\n",
              "</div>"
            ],
            "text/plain": [
              "                 2 and 3 and 6       values\n",
              "0  [2 false, 3 false, 6 false]   1151004808\n",
              "1   [2 false, 3 false, 6 true]  11169584800\n",
              "2   [2 false, 3 true, 6 false]   1345954560\n",
              "3    [2 false, 3 true, 6 true]   3817607244\n",
              "4   [2 true, 3 false, 6 false]   1721163312\n",
              "5    [2 true, 3 false, 6 true]    887769600\n",
              "6    [2 true, 3 true, 6 false]  14766935040\n",
              "7     [2 true, 3 true, 6 true]   2226227328"
            ]
          },
          "metadata": {
            "tags": []
          },
          "execution_count": 75
        }
      ]
    },
    {
      "cell_type": "code",
      "metadata": {
        "colab": {
          "base_uri": "https://localhost:8080/",
          "height": 300
        },
        "id": "fMeTuLhUEDS0",
        "outputId": "cdfa76eb-c592-43cb-aa30-b6ef6947f0e3"
      },
      "source": [
        "# multiply corresponding values from clique_potential356 and M_df36_1 (message 236)\n",
        "# from [236]-[356]\n",
        "clique_belief356 = [clique_potential356[0]*message236[0], clique_potential356[1]*message236[1], \n",
        "                    clique_potential356[2]*message236[0], clique_potential356[3]*message236[1], \n",
        "                    clique_potential356[4]*message236[2], clique_potential356[5]*message236[3],\n",
        "                    clique_potential356[6]*message236[2], clique_potential356[7]*message236[3]]\n",
        "CB_df356 = pd.DataFrame({ '3 and 5 and 6' : true_false356, 'values' : clique_belief356 })\n",
        "CB_df356"
      ],
      "execution_count": null,
      "outputs": [
        {
          "output_type": "execute_result",
          "data": {
            "text/html": [
              "<div>\n",
              "<style scoped>\n",
              "    .dataframe tbody tr th:only-of-type {\n",
              "        vertical-align: middle;\n",
              "    }\n",
              "\n",
              "    .dataframe tbody tr th {\n",
              "        vertical-align: top;\n",
              "    }\n",
              "\n",
              "    .dataframe thead th {\n",
              "        text-align: right;\n",
              "    }\n",
              "</style>\n",
              "<table border=\"1\" class=\"dataframe\">\n",
              "  <thead>\n",
              "    <tr style=\"text-align: right;\">\n",
              "      <th></th>\n",
              "      <th>3 and 5 and 6</th>\n",
              "      <th>values</th>\n",
              "    </tr>\n",
              "  </thead>\n",
              "  <tbody>\n",
              "    <tr>\n",
              "      <th>0</th>\n",
              "      <td>[3 false, 5 false, 6 false]</td>\n",
              "      <td>1879413440</td>\n",
              "    </tr>\n",
              "    <tr>\n",
              "      <th>1</th>\n",
              "      <td>[3 false, 5 false, 6 true]</td>\n",
              "      <td>2256601600</td>\n",
              "    </tr>\n",
              "    <tr>\n",
              "      <th>2</th>\n",
              "      <td>[3 false, 5 true, 6 false]</td>\n",
              "      <td>992754680</td>\n",
              "    </tr>\n",
              "    <tr>\n",
              "      <th>3</th>\n",
              "      <td>[3 false, 5 true, 6 true]</td>\n",
              "      <td>1191995200</td>\n",
              "    </tr>\n",
              "    <tr>\n",
              "      <th>4</th>\n",
              "      <td>[3 true, 5 false, 6 false]</td>\n",
              "      <td>9933046400</td>\n",
              "    </tr>\n",
              "    <tr>\n",
              "      <th>5</th>\n",
              "      <td>[3 true, 5 false, 6 true]</td>\n",
              "      <td>3725817698</td>\n",
              "    </tr>\n",
              "    <tr>\n",
              "      <th>6</th>\n",
              "      <td>[3 true, 5 true, 6 false]</td>\n",
              "      <td>6179843200</td>\n",
              "    </tr>\n",
              "    <tr>\n",
              "      <th>7</th>\n",
              "      <td>[3 true, 5 true, 6 true]</td>\n",
              "      <td>2318016874</td>\n",
              "    </tr>\n",
              "  </tbody>\n",
              "</table>\n",
              "</div>"
            ],
            "text/plain": [
              "                 3 and 5 and 6      values\n",
              "0  [3 false, 5 false, 6 false]  1879413440\n",
              "1   [3 false, 5 false, 6 true]  2256601600\n",
              "2   [3 false, 5 true, 6 false]   992754680\n",
              "3    [3 false, 5 true, 6 true]  1191995200\n",
              "4   [3 true, 5 false, 6 false]  9933046400\n",
              "5    [3 true, 5 false, 6 true]  3725817698\n",
              "6    [3 true, 5 true, 6 false]  6179843200\n",
              "7     [3 true, 5 true, 6 true]  2318016874"
            ]
          },
          "metadata": {
            "tags": []
          },
          "execution_count": 74
        }
      ]
    },
    {
      "cell_type": "markdown",
      "metadata": {
        "id": "YeMrTZEdFJOn"
      },
      "source": [
        "2) Sepset belief between [234]-[236]"
      ]
    },
    {
      "cell_type": "code",
      "metadata": {
        "colab": {
          "base_uri": "https://localhost:8080/",
          "height": 175
        },
        "id": "8KOpQMj1lH29",
        "outputId": "c0677b58-5535-442a-cfa2-83c731ddb6c4"
      },
      "source": [
        "# sepset belief of [234]-[236] is {23} and it is a multiple of 2 messages between them\n",
        "sepset23 = [message234[0]*message236_back[0], message234[1]*message236_back[1], \n",
        "            message234[2]*message236_back[2], message234[3]*message236_back[3]]\n",
        "S_df23 = pd.DataFrame({'2 and 3': true_false23, 'values': sepset23})\n",
        "S_df23"
      ],
      "execution_count": 125,
      "outputs": [
        {
          "output_type": "execute_result",
          "data": {
            "text/html": [
              "<div>\n",
              "<style scoped>\n",
              "    .dataframe tbody tr th:only-of-type {\n",
              "        vertical-align: middle;\n",
              "    }\n",
              "\n",
              "    .dataframe tbody tr th {\n",
              "        vertical-align: top;\n",
              "    }\n",
              "\n",
              "    .dataframe thead th {\n",
              "        text-align: right;\n",
              "    }\n",
              "</style>\n",
              "<table border=\"1\" class=\"dataframe\">\n",
              "  <thead>\n",
              "    <tr style=\"text-align: right;\">\n",
              "      <th></th>\n",
              "      <th>2 and 3</th>\n",
              "      <th>values</th>\n",
              "    </tr>\n",
              "  </thead>\n",
              "  <tbody>\n",
              "    <tr>\n",
              "      <th>0</th>\n",
              "      <td>[2 false, 3 false]</td>\n",
              "      <td>2675616570</td>\n",
              "    </tr>\n",
              "    <tr>\n",
              "      <th>1</th>\n",
              "      <td>[2 false, 3 true]</td>\n",
              "      <td>6805116270</td>\n",
              "    </tr>\n",
              "    <tr>\n",
              "      <th>2</th>\n",
              "      <td>[2 true, 3 false]</td>\n",
              "      <td>3044187432</td>\n",
              "    </tr>\n",
              "    <tr>\n",
              "      <th>3</th>\n",
              "      <td>[2 true, 3 true]</td>\n",
              "      <td>8485394112</td>\n",
              "    </tr>\n",
              "  </tbody>\n",
              "</table>\n",
              "</div>"
            ],
            "text/plain": [
              "              2 and 3      values\n",
              "0  [2 false, 3 false]  2675616570\n",
              "1   [2 false, 3 true]  6805116270\n",
              "2   [2 true, 3 false]  3044187432\n",
              "3    [2 true, 3 true]  8485394112"
            ]
          },
          "metadata": {
            "tags": []
          },
          "execution_count": 125
        }
      ]
    },
    {
      "cell_type": "code",
      "metadata": {
        "colab": {
          "base_uri": "https://localhost:8080/",
          "height": 300
        },
        "id": "0IOIddjll9hi",
        "outputId": "edffde75-7daa-4939-e83f-6eb4a8257b53"
      },
      "source": [
        "# now we compute clique beliefs of [234] and [236]\n",
        "# multiply message M_df23_2 (message236_back) with clique_potential234\n",
        "\n",
        "clique_belief234_2 = [clique_potential234[0]*message236_back[0], clique_potential234[1]*message236_back[0], \n",
        "                    clique_potential234[2]*message236_back[1], clique_potential234[3]*message236_back[1], \n",
        "                    clique_potential234[4]*message236_back[2], clique_potential234[5]*message236_back[2],\n",
        "                    clique_potential234[6]*message236_back[3], clique_potential234[7]*message236_back[3]]\n",
        "CB_df234_2 = pd.DataFrame({ '2 and 3 and 4' : true_false234, 'values' : clique_belief234_2 })\n",
        "CB_df234_2"
      ],
      "execution_count": 119,
      "outputs": [
        {
          "output_type": "execute_result",
          "data": {
            "text/html": [
              "<div>\n",
              "<style scoped>\n",
              "    .dataframe tbody tr th:only-of-type {\n",
              "        vertical-align: middle;\n",
              "    }\n",
              "\n",
              "    .dataframe tbody tr th {\n",
              "        vertical-align: top;\n",
              "    }\n",
              "\n",
              "    .dataframe thead th {\n",
              "        text-align: right;\n",
              "    }\n",
              "</style>\n",
              "<table border=\"1\" class=\"dataframe\">\n",
              "  <thead>\n",
              "    <tr style=\"text-align: right;\">\n",
              "      <th></th>\n",
              "      <th>2 and 3 and 4</th>\n",
              "      <th>values</th>\n",
              "    </tr>\n",
              "  </thead>\n",
              "  <tbody>\n",
              "    <tr>\n",
              "      <th>0</th>\n",
              "      <td>[2 false, 3 false, 4 false]</td>\n",
              "      <td>1874362410</td>\n",
              "    </tr>\n",
              "    <tr>\n",
              "      <th>1</th>\n",
              "      <td>[2 false, 3 false, 4 true]</td>\n",
              "      <td>801254160</td>\n",
              "    </tr>\n",
              "    <tr>\n",
              "      <th>2</th>\n",
              "      <td>[2 false, 3 true, 4 false]</td>\n",
              "      <td>805442490</td>\n",
              "    </tr>\n",
              "    <tr>\n",
              "      <th>3</th>\n",
              "      <td>[2 false, 3 true, 4 true]</td>\n",
              "      <td>5999673780</td>\n",
              "    </tr>\n",
              "    <tr>\n",
              "      <th>4</th>\n",
              "      <td>[2 true, 3 false, 4 false]</td>\n",
              "      <td>894097008</td>\n",
              "    </tr>\n",
              "    <tr>\n",
              "      <th>5</th>\n",
              "      <td>[2 true, 3 false, 4 true]</td>\n",
              "      <td>2150090424</td>\n",
              "    </tr>\n",
              "    <tr>\n",
              "      <th>6</th>\n",
              "      <td>[2 true, 3 true, 4 false]</td>\n",
              "      <td>2818906272</td>\n",
              "    </tr>\n",
              "    <tr>\n",
              "      <th>7</th>\n",
              "      <td>[2 true, 3 true, 4 true]</td>\n",
              "      <td>5666487840</td>\n",
              "    </tr>\n",
              "  </tbody>\n",
              "</table>\n",
              "</div>"
            ],
            "text/plain": [
              "                 2 and 3 and 4      values\n",
              "0  [2 false, 3 false, 4 false]  1874362410\n",
              "1   [2 false, 3 false, 4 true]   801254160\n",
              "2   [2 false, 3 true, 4 false]   805442490\n",
              "3    [2 false, 3 true, 4 true]  5999673780\n",
              "4   [2 true, 3 false, 4 false]   894097008\n",
              "5    [2 true, 3 false, 4 true]  2150090424\n",
              "6    [2 true, 3 true, 4 false]  2818906272\n",
              "7     [2 true, 3 true, 4 true]  5666487840"
            ]
          },
          "metadata": {
            "tags": []
          },
          "execution_count": 119
        }
      ]
    },
    {
      "cell_type": "code",
      "metadata": {
        "colab": {
          "base_uri": "https://localhost:8080/",
          "height": 300
        },
        "id": "cxnznrrVqVm8",
        "outputId": "d351d6dc-f441-47e2-cf55-6488a04d2866"
      },
      "source": [
        "# clique belief for [236] by multiplying message234 (M_df23_1) with clique_potential236\n",
        "clique_belief236_1 = [clique_potential236[0]*message356[0], clique_potential236[1]*message356[0], \n",
        "                      clique_potential236[2]*message356[1], clique_potential236[3]*message356[1], \n",
        "                      clique_potential236[4]*message356[2], clique_potential236[5]*message356[2],\n",
        "                      clique_potential236[6]*message356[3], clique_potential236[7]*message356[3]]\n",
        "CB_df236_1 = pd.DataFrame({ '2 and 3 and 6' : true_false236, 'values' : clique_belief236_1 })\n",
        "CB_df236_1"
      ],
      "execution_count": 120,
      "outputs": [
        {
          "output_type": "execute_result",
          "data": {
            "text/html": [
              "<div>\n",
              "<style scoped>\n",
              "    .dataframe tbody tr th:only-of-type {\n",
              "        vertical-align: middle;\n",
              "    }\n",
              "\n",
              "    .dataframe tbody tr th {\n",
              "        vertical-align: top;\n",
              "    }\n",
              "\n",
              "    .dataframe thead th {\n",
              "        text-align: right;\n",
              "    }\n",
              "</style>\n",
              "<table border=\"1\" class=\"dataframe\">\n",
              "  <thead>\n",
              "    <tr style=\"text-align: right;\">\n",
              "      <th></th>\n",
              "      <th>2 and 3 and 6</th>\n",
              "      <th>values</th>\n",
              "    </tr>\n",
              "  </thead>\n",
              "  <tbody>\n",
              "    <tr>\n",
              "      <th>0</th>\n",
              "      <td>[2 false, 3 false, 6 false]</td>\n",
              "      <td>1151004808</td>\n",
              "    </tr>\n",
              "    <tr>\n",
              "      <th>1</th>\n",
              "      <td>[2 false, 3 false, 6 true]</td>\n",
              "      <td>2624852428</td>\n",
              "    </tr>\n",
              "    <tr>\n",
              "      <th>2</th>\n",
              "      <td>[2 false, 3 true, 6 false]</td>\n",
              "      <td>2560827200</td>\n",
              "    </tr>\n",
              "    <tr>\n",
              "      <th>3</th>\n",
              "      <td>[2 false, 3 true, 6 true]</td>\n",
              "      <td>5839935200</td>\n",
              "    </tr>\n",
              "    <tr>\n",
              "      <th>4</th>\n",
              "      <td>[2 true, 3 false, 6 false]</td>\n",
              "      <td>3849500160</td>\n",
              "    </tr>\n",
              "    <tr>\n",
              "      <th>5</th>\n",
              "      <td>[2 true, 3 false, 6 true]</td>\n",
              "      <td>466606080</td>\n",
              "    </tr>\n",
              "    <tr>\n",
              "      <th>6</th>\n",
              "      <td>[2 true, 3 true, 6 false]</td>\n",
              "      <td>18366375456</td>\n",
              "    </tr>\n",
              "    <tr>\n",
              "      <th>7</th>\n",
              "      <td>[2 true, 3 true, 6 true]</td>\n",
              "      <td>2226227328</td>\n",
              "    </tr>\n",
              "  </tbody>\n",
              "</table>\n",
              "</div>"
            ],
            "text/plain": [
              "                 2 and 3 and 6       values\n",
              "0  [2 false, 3 false, 6 false]   1151004808\n",
              "1   [2 false, 3 false, 6 true]   2624852428\n",
              "2   [2 false, 3 true, 6 false]   2560827200\n",
              "3    [2 false, 3 true, 6 true]   5839935200\n",
              "4   [2 true, 3 false, 6 false]   3849500160\n",
              "5    [2 true, 3 false, 6 true]    466606080\n",
              "6    [2 true, 3 true, 6 false]  18366375456\n",
              "7     [2 true, 3 true, 6 true]   2226227328"
            ]
          },
          "metadata": {
            "tags": []
          },
          "execution_count": 120
        }
      ]
    },
    {
      "cell_type": "markdown",
      "metadata": {
        "id": "CfQ98fh2F00W"
      },
      "source": [
        "3) Now we find clique and sepset belief between [012]-[234]"
      ]
    },
    {
      "cell_type": "code",
      "metadata": {
        "colab": {
          "base_uri": "https://localhost:8080/",
          "height": 112
        },
        "id": "HugtpjAg9RFI",
        "outputId": "4c53915e-15af-47f2-fe53-727fb92cabcc"
      },
      "source": [
        "# sepset for [012]-[234] is a multiple of message234_back(M_df2_2) and message012 (M_df2_1)\n",
        "sepset2 = [message012[0]*message234_back[0],message012[1]*message234_back[1]]\n",
        "S_df2 = pd.DataFrame({'2': true_false2, 'values': sepset2})\n",
        "S_df2"
      ],
      "execution_count": 124,
      "outputs": [
        {
          "output_type": "execute_result",
          "data": {
            "text/html": [
              "<div>\n",
              "<style scoped>\n",
              "    .dataframe tbody tr th:only-of-type {\n",
              "        vertical-align: middle;\n",
              "    }\n",
              "\n",
              "    .dataframe tbody tr th {\n",
              "        vertical-align: top;\n",
              "    }\n",
              "\n",
              "    .dataframe thead th {\n",
              "        text-align: right;\n",
              "    }\n",
              "</style>\n",
              "<table border=\"1\" class=\"dataframe\">\n",
              "  <thead>\n",
              "    <tr style=\"text-align: right;\">\n",
              "      <th></th>\n",
              "      <th>2</th>\n",
              "      <th>values</th>\n",
              "    </tr>\n",
              "  </thead>\n",
              "  <tbody>\n",
              "    <tr>\n",
              "      <th>0</th>\n",
              "      <td>[2 false]</td>\n",
              "      <td>67427743950</td>\n",
              "    </tr>\n",
              "    <tr>\n",
              "      <th>1</th>\n",
              "      <td>[2 true]</td>\n",
              "      <td>28315880385</td>\n",
              "    </tr>\n",
              "  </tbody>\n",
              "</table>\n",
              "</div>"
            ],
            "text/plain": [
              "           2       values\n",
              "0  [2 false]  67427743950\n",
              "1   [2 true]  28315880385"
            ]
          },
          "metadata": {
            "tags": []
          },
          "execution_count": 124
        }
      ]
    },
    {
      "cell_type": "code",
      "metadata": {
        "colab": {
          "base_uri": "https://localhost:8080/",
          "height": 300
        },
        "id": "Em5GFa2h7G1y",
        "outputId": "240b863d-b4ba-4421-d723-95913df11290"
      },
      "source": [
        "# we calculate clique belief of [012] by multiplying clique_potential012 with message234_back (M_df2_2)\n",
        "clique_belief012 = [clique_potential012[0]*message234_back[0], clique_potential012[1]*message234_back[1], \n",
        "                    clique_potential012[2]*message234_back[0], clique_potential012[3]*message234_back[1], \n",
        "                    clique_potential012[4]*message234_back[0], clique_potential012[5]*message234_back[1],\n",
        "                    clique_potential012[6]*message234_back[0], clique_potential012[7]*message234_back[1]]\n",
        "CB_df012 = pd.DataFrame({ '0 and 1 and 2' : true_false012, 'values' : clique_belief012 })\n",
        "CB_df012"
      ],
      "execution_count": 117,
      "outputs": [
        {
          "output_type": "execute_result",
          "data": {
            "text/html": [
              "<div>\n",
              "<style scoped>\n",
              "    .dataframe tbody tr th:only-of-type {\n",
              "        vertical-align: middle;\n",
              "    }\n",
              "\n",
              "    .dataframe tbody tr th {\n",
              "        vertical-align: top;\n",
              "    }\n",
              "\n",
              "    .dataframe thead th {\n",
              "        text-align: right;\n",
              "    }\n",
              "</style>\n",
              "<table border=\"1\" class=\"dataframe\">\n",
              "  <thead>\n",
              "    <tr style=\"text-align: right;\">\n",
              "      <th></th>\n",
              "      <th>0 and 1 and 2</th>\n",
              "      <th>values</th>\n",
              "    </tr>\n",
              "  </thead>\n",
              "  <tbody>\n",
              "    <tr>\n",
              "      <th>0</th>\n",
              "      <td>[0 false, 1 false, 2 false]</td>\n",
              "      <td>12620374200</td>\n",
              "    </tr>\n",
              "    <tr>\n",
              "      <th>1</th>\n",
              "      <td>[0 false, 1 false, 2 true]</td>\n",
              "      <td>8428460100</td>\n",
              "    </tr>\n",
              "    <tr>\n",
              "      <th>2</th>\n",
              "      <td>[0 false, 1 true, 2 false]</td>\n",
              "      <td>10339960050</td>\n",
              "    </tr>\n",
              "    <tr>\n",
              "      <th>3</th>\n",
              "      <td>[0 false, 1 true, 2 true]</td>\n",
              "      <td>6905495775</td>\n",
              "    </tr>\n",
              "    <tr>\n",
              "      <th>4</th>\n",
              "      <td>[0 true, 1 false, 2 false]</td>\n",
              "      <td>22785783300</td>\n",
              "    </tr>\n",
              "    <tr>\n",
              "      <th>5</th>\n",
              "      <td>[0 true, 1 false, 2 true]</td>\n",
              "      <td>6652137390</td>\n",
              "    </tr>\n",
              "    <tr>\n",
              "      <th>6</th>\n",
              "      <td>[0 true, 1 true, 2 false]</td>\n",
              "      <td>21681626400</td>\n",
              "    </tr>\n",
              "    <tr>\n",
              "      <th>7</th>\n",
              "      <td>[0 true, 1 true, 2 true]</td>\n",
              "      <td>6329787120</td>\n",
              "    </tr>\n",
              "  </tbody>\n",
              "</table>\n",
              "</div>"
            ],
            "text/plain": [
              "                 0 and 1 and 2       values\n",
              "0  [0 false, 1 false, 2 false]  12620374200\n",
              "1   [0 false, 1 false, 2 true]   8428460100\n",
              "2   [0 false, 1 true, 2 false]  10339960050\n",
              "3    [0 false, 1 true, 2 true]   6905495775\n",
              "4   [0 true, 1 false, 2 false]  22785783300\n",
              "5    [0 true, 1 false, 2 true]   6652137390\n",
              "6    [0 true, 1 true, 2 false]  21681626400\n",
              "7     [0 true, 1 true, 2 true]   6329787120"
            ]
          },
          "metadata": {
            "tags": []
          },
          "execution_count": 117
        }
      ]
    },
    {
      "cell_type": "code",
      "metadata": {
        "colab": {
          "base_uri": "https://localhost:8080/",
          "height": 300
        },
        "id": "LDzSVmXu8Kkx",
        "outputId": "d93dc963-e13c-4710-e7ae-3b67db8730ee"
      },
      "source": [
        "# and now we find clique belief of [234] by multiplying clique_potential234 with message012 (M_df2_1)\n",
        "clique_belief234_1 = [clique_potential234[0]*message012[0], clique_potential234[1]*message012[0], \n",
        "                      clique_potential234[2]*message012[0], clique_potential234[3]*message012[0], \n",
        "                      clique_potential234[4]*message012[1], clique_potential234[5]*message012[1],\n",
        "                      clique_potential234[6]*message012[1], clique_potential234[7]*message012[1]]\n",
        "CB_df234_1 = pd.DataFrame({ '2 and 3 and 4' : true_false234, 'values' : clique_belief234_1 })\n",
        "CB_df234_1"
      ],
      "execution_count": 121,
      "outputs": [
        {
          "output_type": "execute_result",
          "data": {
            "text/html": [
              "<div>\n",
              "<style scoped>\n",
              "    .dataframe tbody tr th:only-of-type {\n",
              "        vertical-align: middle;\n",
              "    }\n",
              "\n",
              "    .dataframe tbody tr th {\n",
              "        vertical-align: top;\n",
              "    }\n",
              "\n",
              "    .dataframe thead th {\n",
              "        text-align: right;\n",
              "    }\n",
              "</style>\n",
              "<table border=\"1\" class=\"dataframe\">\n",
              "  <thead>\n",
              "    <tr style=\"text-align: right;\">\n",
              "      <th></th>\n",
              "      <th>2 and 3 and 4</th>\n",
              "      <th>values</th>\n",
              "    </tr>\n",
              "  </thead>\n",
              "  <tbody>\n",
              "    <tr>\n",
              "      <th>0</th>\n",
              "      <td>[2 false, 3 false, 4 false]</td>\n",
              "      <td>8054438715</td>\n",
              "    </tr>\n",
              "    <tr>\n",
              "      <th>1</th>\n",
              "      <td>[2 false, 3 false, 4 true]</td>\n",
              "      <td>3443118840</td>\n",
              "    </tr>\n",
              "    <tr>\n",
              "      <th>2</th>\n",
              "      <td>[2 false, 3 true, 4 false]</td>\n",
              "      <td>6619805865</td>\n",
              "    </tr>\n",
              "    <tr>\n",
              "      <th>3</th>\n",
              "      <td>[2 false, 3 true, 4 true]</td>\n",
              "      <td>49310380530</td>\n",
              "    </tr>\n",
              "    <tr>\n",
              "      <th>4</th>\n",
              "      <td>[2 true, 3 false, 4 false]</td>\n",
              "      <td>4816632366</td>\n",
              "    </tr>\n",
              "    <tr>\n",
              "      <th>5</th>\n",
              "      <td>[2 true, 3 false, 4 true]</td>\n",
              "      <td>11582854023</td>\n",
              "    </tr>\n",
              "    <tr>\n",
              "      <th>6</th>\n",
              "      <td>[2 true, 3 true, 4 false]</td>\n",
              "      <td>3958708026</td>\n",
              "    </tr>\n",
              "    <tr>\n",
              "      <th>7</th>\n",
              "      <td>[2 true, 3 true, 4 true]</td>\n",
              "      <td>7957685970</td>\n",
              "    </tr>\n",
              "  </tbody>\n",
              "</table>\n",
              "</div>"
            ],
            "text/plain": [
              "                 2 and 3 and 4       values\n",
              "0  [2 false, 3 false, 4 false]   8054438715\n",
              "1   [2 false, 3 false, 4 true]   3443118840\n",
              "2   [2 false, 3 true, 4 false]   6619805865\n",
              "3    [2 false, 3 true, 4 true]  49310380530\n",
              "4   [2 true, 3 false, 4 false]   4816632366\n",
              "5    [2 true, 3 false, 4 true]  11582854023\n",
              "6    [2 true, 3 true, 4 false]   3958708026\n",
              "7     [2 true, 3 true, 4 true]   7957685970"
            ]
          },
          "metadata": {
            "tags": []
          },
          "execution_count": 121
        }
      ]
    },
    {
      "cell_type": "markdown",
      "metadata": {
        "id": "tz3aCtsZGw4-"
      },
      "source": [
        "\n",
        "\n",
        "---\n",
        "\n"
      ]
    },
    {
      "cell_type": "markdown",
      "metadata": {
        "id": "lEN65ky1GxgL"
      },
      "source": [
        "**Notes****\n",
        "\n",
        "Sepsets between:\n",
        "\n",
        "1) [012]-[234] is S_df2\n",
        "\n",
        "2) [234]-[236] is S_df23\n",
        "\n",
        "3) [236]-[356] is S_df36"
      ]
    }
  ]
}